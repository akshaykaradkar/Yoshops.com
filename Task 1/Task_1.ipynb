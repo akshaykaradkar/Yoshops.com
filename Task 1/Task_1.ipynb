{
 "cells": [
  {
   "cell_type": "code",
   "execution_count": 1,
   "id": "038dc9db",
   "metadata": {},
   "outputs": [],
   "source": [
    "#TASK 1\n",
    "#Write a python program to displayed products count number by products main categories and sub categories.\n",
    "#Enter 1 put value link = Yoshops.com\n",
    "#Enter 2 put categories link=\n",
    "#Output = create excel file with Name Category, Products count,Total products count"
   ]
  },
  {
   "cell_type": "code",
   "execution_count": 3,
   "id": "f586d1ad",
   "metadata": {},
   "outputs": [
    {
     "name": "stdout",
     "output_type": "stream",
     "text": [
      "Enter Sub-Category Name:Headphones\n",
      "Saving:  ['Boat Rockerz 255 Wireless Bluetooth Headset with Mic (Black)', 'boAT Airdopes X3 Bass Wireless Earbuds with Charging Case (White)', 'Boat Rockerz 530 Foldable Bluetooth Headphone with Mic (Carbon Black)', 'Samsung Level U Bluetooth Wireless in-Ear Headphones With Mic (Black)', 'Boat Nirvanaa Uno Wired In-ear Earphones with Mic (Black)', 'JBL Tempo On-Ear Headphone', 'Boat Rockerz 225 Plastic Wireless Bluetooth Headset with Mic (Black)', 'Sony On-Ear Phone With Microphone Wired Headphones MS177', 'Mi Neckband Bluetooth Headset with Mic (Black)', 'Boat Rockerz 335 STEREO EARPHONES (Black/Gold)', 'Samsung U Flex Wireless Bluetooth Flexible Headphones with Mic (Black)', 'BOSE Sound True SQ2 Headphones Pouch (Black)', 'Zebronics H-100HM Headphone with Mic', 'Sony MDR-G45LP On-Ear Street Wired Headphone', 'boAt BassHeads 225 Wired Headphones with Mic and Carrying Case (Black)', 'Samsung Earphones With Mic Tuned by AKG (Black)', 'Sony EX31BN Noise-Cancelling Bluetooth® In-ear Headphones', 'JBL C100SI Wired Headphones (Black,Red,White)', 'Nokia BH-103 Bluetooth Stereo Headset with Mic', 'OnePlus Bullets Wireless 3 Bluetooth Headphone(Black)', 'Boat Super EXTRA BASS HEADS 225 WIRED WITH MIC (Black)', 'Boat BassHeads 160 with Mic Wired Stereo Headset (Black)', 'Lg Tone Pro Hbs-750 Bluetooth Headset', 'boAt BassHeads 229 Metal Earphones Hifi Stereo Headsets Metal Headphones With Mic', 'REALME YOUTH BUDS Wireless Bluetooth Headphone', 'Realme Buds Wireless BlueTooth Headset(Black)', 'Boat BassHeads 250 with Hifi Sound Effect, in-line mic, Clear Human Voice,Noise Isolation With Precise Bass Wired Earphones (Black)', 'Boat Rockerz 225 Metal Wireless Bluetooth Headset with Mic (Black)', 'Mi Wired Headphones with Mic Ultra-Deep Bass (Black)', 'REALME Buds Air Tone Wireless Headphone', 'REALME BUDS PLUS Wireless Bluetooth Ears Buds Headphone', 'REALME YOUTH BUDS Wireless Bluetooth Headphone', 'Realme Buds 3 Wired EARPHONE(Black)', 'I-Koson Earphones with Microphone', 'Philip SHQ2305WS Wired Headphones (Black,White)', 'Bluedio i4 Stereo Bluetooth Earphone', 'Sony MDR-EX255AP In-Ear Headphones with Mic (Black)', 'Skullcandy Earphone With Pouch Bag', 'Zebronics ZEB-EM750 Headphone with Mic', 'Boat BASS HEADS 152 (Black)', 'Boat BassHeads 225 Super Extra Bass Headphone (Black)', 'JBL SH12 WIRELESS Bluetooth HEADPHONE', 'REALME Buds Wireless Bluetooth Headphone', 'Realme Buds Wireless BT-R3 BlueTooth Headphone(Black)', 'SYSKA Wireless EARPHONES H-15 BlueTooth Headphone(Black)', 'UBON Audiohive NECKBAND Wireless Bluetooth Headphone(Black)', 'JBL A005 Portable Led Lightning Wireless Bluetooth Speaker', 'Realme Buds Wireless 2 Bluetooth In the Ear Headphone (Black)']\n"
     ]
    }
   ],
   "source": [
    "import requests\n",
    "from bs4 import BeautifulSoup as bs\n",
    "import pandas as pd\n",
    "from datetime import datetime\n",
    "\n",
    "category = input(\"Enter Sub-Category Name:\")\n",
    "url = f'https://yoshops.com/t/{category}'\n",
    "headers = {'User-Agent': 'Mozilla/5.0 (Macintosh; Intel Mac OS X 10_11_5) AppleWebKit/537.36 (KHTML, like Gecko) Chrome/50.0.2661.102 Safari/537.36'}\n",
    "\n",
    "response = requests.get(url,headers = headers)\n",
    "content = response.text\n",
    "soup = bs(content,'html.parser')\n",
    "\n",
    "# Find all products\n",
    "products = soup.find_all('span', {'class' : 'product-title'})\n",
    "products_list = [product.text for product in products]\n",
    "\n",
    "# Get the major category\n",
    "Cat = soup.find('ol', {'class': 'breadcrumb'} )\n",
    "temp_list = Cat.text.split('\\n')\n",
    "major_category = temp_list[2]\n",
    "\n",
    "# Create the dataframe\n",
    "data = pd.DataFrame({\n",
    "    'Category': major_category,\n",
    "    'Sub-Category': category,\n",
    "    'Product_Name': products_list,\n",
    "    'Product Count': 1\n",
    "})\n",
    "\n",
    "# Add a total count to the dataframe\n",
    "data.loc['Total Count', 'Product Count'] = data['Product Count'].sum()\n",
    "\n",
    "# Get the current date and time\n",
    "now = datetime.now()\n",
    "current_time = now.strftime(\"%Y-%m-%d\")\n",
    "\n",
    "print('Saving: ', products_list)\n",
    "\n",
    "# Save the dataframe to an excel file with the current date and time and major category in the file name\n",
    "data.to_excel(f\"{category}({major_category})_{current_time}.xlsx\")\n"
   ]
  }
 ],
 "metadata": {
  "kernelspec": {
   "display_name": "Python 3 (ipykernel)",
   "language": "python",
   "name": "python3"
  },
  "language_info": {
   "codemirror_mode": {
    "name": "ipython",
    "version": 3
   },
   "file_extension": ".py",
   "mimetype": "text/x-python",
   "name": "python",
   "nbconvert_exporter": "python",
   "pygments_lexer": "ipython3",
   "version": "3.9.7"
  }
 },
 "nbformat": 4,
 "nbformat_minor": 5
}
