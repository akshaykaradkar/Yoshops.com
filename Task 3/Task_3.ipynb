{
 "cells": [
  {
   "cell_type": "markdown",
   "id": "633871da",
   "metadata": {},
   "source": [
    "## Task 3"
   ]
  },
  {
   "cell_type": "code",
   "execution_count": 1,
   "id": "ce02f7d2",
   "metadata": {},
   "outputs": [],
   "source": [
    "#Task:3\n",
    "#Automation : Products Page Automation Validation\n",
    "#Write a python programm to find product page where Products Image missing.\n",
    "#Enter 1 for Input value = Yoshops.com\n",
    "#Enter 2 for Input value= Any main categories and sub categories Link\n",
    "#Output = create excel file with web url, Products name, Products Details, contact no and address columns.\n",
    "#task - Work flow logic:\n",
    "#First get the url of each product so that you can check whether their images are missing or not in the next step.\n",
    "#To do that using beautiful soup or Auto Scraper lib file which requires a raw html code or webpage as a parameter and not a url(ie. yoshops.com)."
   ]
  },
  {
   "cell_type": "code",
   "execution_count": 2,
   "id": "35422f71",
   "metadata": {},
   "outputs": [
    {
     "name": "stdout",
     "output_type": "stream",
     "text": [
      "Scrapping From page1\n",
      "[]\n",
      "Scrapping From page2\n",
      "[]\n",
      "Scrapping From page3\n",
      "[]\n",
      "Scrapping From page4\n",
      "['River Prawn Small- 4cm 250gm(Berhampur)']\n",
      "Scrapping From page5\n",
      "['River Prawn Small- 4cm 250gm(Berhampur)']\n",
      "Scrapping From page6\n",
      "['River Prawn Small- 4cm 250gm(Berhampur)']\n",
      "Scrapping From page7\n",
      "['River Prawn Small- 4cm 250gm(Berhampur)']\n",
      "Scrapping From page8\n",
      "['River Prawn Small- 4cm 250gm(Berhampur)']\n",
      "Scrapping From page9\n",
      "['River Prawn Small- 4cm 250gm(Berhampur)', 'Rohu River Fish Raw 1Kg(Berhampur)', 'Rohu River Fish Cutting(No Head) 1Kg(Berhampur)', 'Vakura Catla River Fish Raw 1Kg(Berhampur)', 'River Prawn Raw Big-12cm 250gm(Berhampur)', 'River Prawn Raw Middium- 6cm 250gm(Berhampur)', 'River Prawn Raw Big-12cm 500gm(Berhampur)', 'River Prawn Raw Middium- 6cm 500gm(Berhampur)', 'River Prawn Small- 4cm 500gm(Berhampur)', 'Cooking OiL 1Liter(Berhampur)', 'ATTA 1Kg(Berhampur)', 'Sweet Pickel 1Kg(Berhampur)']\n",
      "Scrapping From page10\n",
      "['River Prawn Small- 4cm 250gm(Berhampur)', 'Rohu River Fish Raw 1Kg(Berhampur)', 'Rohu River Fish Cutting(No Head) 1Kg(Berhampur)', 'Vakura Catla River Fish Raw 1Kg(Berhampur)', 'River Prawn Raw Big-12cm 250gm(Berhampur)', 'River Prawn Raw Middium- 6cm 250gm(Berhampur)', 'River Prawn Raw Big-12cm 500gm(Berhampur)', 'River Prawn Raw Middium- 6cm 500gm(Berhampur)', 'River Prawn Small- 4cm 500gm(Berhampur)', 'Cooking OiL 1Liter(Berhampur)', 'ATTA 1Kg(Berhampur)', 'Sweet Pickel 1Kg(Berhampur)']\n",
      "Scrapping From page11\n",
      "['River Prawn Small- 4cm 250gm(Berhampur)', 'Rohu River Fish Raw 1Kg(Berhampur)', 'Rohu River Fish Cutting(No Head) 1Kg(Berhampur)', 'Vakura Catla River Fish Raw 1Kg(Berhampur)', 'River Prawn Raw Big-12cm 250gm(Berhampur)', 'River Prawn Raw Middium- 6cm 250gm(Berhampur)', 'River Prawn Raw Big-12cm 500gm(Berhampur)', 'River Prawn Raw Middium- 6cm 500gm(Berhampur)', 'River Prawn Small- 4cm 500gm(Berhampur)', 'Cooking OiL 1Liter(Berhampur)', 'ATTA 1Kg(Berhampur)', 'Sweet Pickel 1Kg(Berhampur)']\n"
     ]
    }
   ],
   "source": [
    "#Importing the libraries\n",
    "\n",
    "import pandas as pd\n",
    "import urllib.request\n",
    "from urllib.request import urlopen, Request\n",
    "from bs4 import BeautifulSoup\n",
    "\n",
    "baseurl = \"https://www.yoshops.com\"\n",
    "html=urlopen(baseurl)\n",
    "headers = {\n",
    "        'User-Agent': 'Mozilla/5.0 (Windows NT 10.0; Win64; x64) AppleWebKit/537.36 (KHTML, like Gecko) Chrome/91.0.4472.124 Safari/537.36 Edg/91.0.864.59'\n",
    "    }\n",
    "bs= BeautifulSoup(html,'lxml')\n",
    "\n",
    "\n",
    "#Creating required data list\n",
    "product_list = []\n",
    "product_name = []\n",
    "missing_img_product_list = []\n",
    "url_list = []\n",
    "img_list = []\n",
    "product_links = []\n",
    "\n",
    "for x in range(1,12):\n",
    "    print(f'Scrapping From page{x}')\n",
    "    html=urlopen(f'https://yoshops.com/products?page={x}')\n",
    "    bs= BeautifulSoup(html,'lxml')\n",
    "    product_list = bs.find_all('div', class_ ='product')\n",
    "    for product in product_list:\n",
    "        for link in product.find_all('a', href=True):\n",
    "            product_links.append(baseurl+link['href'])\n",
    "            name = product.find('span', attrs = { 'class':'product-title'}).text.strip()\n",
    "            product_name.append(name)\n",
    "            \n",
    "    img_list = bs.find_all('a', class_ = 'product-link')\n",
    "    for no_img in img_list:\n",
    "        if no_img.find_all('img') == no_img.find_all('img',{'src':\"//onlinestore.wsimg.com/assets/noimage/product-5fec99477aebb10bac85d82665ec1497de4536cda3279e59089555c45cf589fa.png\"}):\n",
    "            missing_img_product_list.append(no_img.img['alt'])\n",
    "            url_list.append(f'{baseurl}'+no_img['href'])\n",
    "            \n",
    "    print(missing_img_product_list)"
   ]
  },
  {
   "cell_type": "code",
   "execution_count": 3,
   "id": "40e096ae",
   "metadata": {},
   "outputs": [
    {
     "name": "stdout",
     "output_type": "stream",
     "text": [
      "1 Missing Image Product Name - River Prawn Small- 4cm 250gm(Berhampur) \n",
      "  Product Link - https://www.yoshops.com/products/river-prawn-small-4cm-250gm-berhampur\n",
      "2 Missing Image Product Name - Rohu River Fish Raw 1Kg(Berhampur) \n",
      "  Product Link - https://www.yoshops.com/products/rohu-river-fish-raw-1kg-berhampur\n",
      "3 Missing Image Product Name - Rohu River Fish Cutting(No Head) 1Kg(Berhampur) \n",
      "  Product Link - https://www.yoshops.com/products/rohu-river-fish-cutting-no-head-1kg-berhampur\n",
      "4 Missing Image Product Name - Vakura Catla River Fish Raw 1Kg(Berhampur) \n",
      "  Product Link - https://www.yoshops.com/products/vakura-catla-river-fish-raw-1kg-berhampur\n",
      "5 Missing Image Product Name - River Prawn Raw Big-12cm 250gm(Berhampur) \n",
      "  Product Link - https://www.yoshops.com/products/river-prawn-raw-big-12cm-250gm-berhampur\n",
      "6 Missing Image Product Name - River Prawn Raw Middium- 6cm 250gm(Berhampur) \n",
      "  Product Link - https://www.yoshops.com/products/river-prawn-raw-middium-6cm-250gm-berhampur\n",
      "7 Missing Image Product Name - River Prawn Raw Big-12cm 500gm(Berhampur) \n",
      "  Product Link - https://www.yoshops.com/products/river-prawn-raw-big-12cm-500gm-berhampur\n",
      "8 Missing Image Product Name - River Prawn Raw Middium- 6cm 500gm(Berhampur) \n",
      "  Product Link - https://www.yoshops.com/products/river-prawn-raw-middium-6cm-500gm-berhampur\n",
      "9 Missing Image Product Name - River Prawn Small- 4cm 500gm(Berhampur) \n",
      "  Product Link - https://www.yoshops.com/products/river-prawn-small-4cm-500gm-berhampur\n",
      "10 Missing Image Product Name - Cooking OiL 1Liter(Berhampur) \n",
      "  Product Link - https://www.yoshops.com/products/cooking-oil-1liter-berhampur\n",
      "11 Missing Image Product Name - ATTA 1Kg(Berhampur) \n",
      "  Product Link - https://www.yoshops.com/products/atta-1kg-berhampur\n",
      "12 Missing Image Product Name - Sweet Pickel 1Kg(Berhampur) \n",
      "  Product Link - https://www.yoshops.com/products/sweet-pickel-1kg-berhampur\n",
      "Products without Images 12\n"
     ]
    }
   ],
   "source": [
    "#Print missing img list\n",
    "num = 0\n",
    "ind = -1\n",
    "for name in missing_img_product_list:\n",
    "    num += 1\n",
    "    ind += 1\n",
    "    print(f'{num} Missing Image Product Name - {name} \\n  Product Link - {url_list[ind]}')\n",
    "print( f'Products without Images {num}')"
   ]
  },
  {
   "cell_type": "code",
   "execution_count": 4,
   "id": "0921f92f",
   "metadata": {},
   "outputs": [
    {
     "name": "stdout",
     "output_type": "stream",
     "text": [
      "Output Exported\n"
     ]
    }
   ],
   "source": [
    "#Exporting data to CSV\n",
    "list = {'Product Name': missing_img_product_list, 'Product Link' : url_list}\n",
    "df = pd.DataFrame(list)\n",
    "df.to_excel('No_img_product_list.xlsx')\n",
    "print('Output Exported')"
   ]
  }
 ],
 "metadata": {
  "kernelspec": {
   "display_name": "Python 3 (ipykernel)",
   "language": "python",
   "name": "python3"
  },
  "language_info": {
   "codemirror_mode": {
    "name": "ipython",
    "version": 3
   },
   "file_extension": ".py",
   "mimetype": "text/x-python",
   "name": "python",
   "nbconvert_exporter": "python",
   "pygments_lexer": "ipython3",
   "version": "3.9.7"
  }
 },
 "nbformat": 4,
 "nbformat_minor": 5
}
