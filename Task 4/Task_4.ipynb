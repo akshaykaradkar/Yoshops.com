{
 "cells": [
  {
   "cell_type": "code",
   "execution_count": 1,
   "id": "005dc2d3",
   "metadata": {},
   "outputs": [],
   "source": [
    "#Task4: Digital Marketing Automation \n",
    "#Input Value Type text-  Item name-Data Science Basic Training Program for Everyone(Age=10 to 60)\n",
    "#Input Value Type link  : https://yoshops.com/products/data-science-basic-training-program-for-everyone-age-10-t0-60\n",
    "\n",
    "#Output:\n",
    "\n",
    "#1.Create Banner(Jpg,Png),Tag Line for topic(notepad),Topic description  file(notepad),keyword file(notepad),\n",
    "\n",
    "#2.Create 20sec 🎥   shorts videos(MP4) on Data Science Basic Training Program for Everyone\n",
    "\n",
    "#3.Write a blog on Data Science Basic Training Program for Everyone."
   ]
  },
  {
   "cell_type": "code",
   "execution_count": 2,
   "id": "f585d4a9",
   "metadata": {},
   "outputs": [
    {
     "name": "stdout",
     "output_type": "stream",
     "text": [
      "Requirement already satisfied: pillow in c:\\users\\akshay karadkar\\anaconda3\\lib\\site-packages (9.3.0)\n"
     ]
    }
   ],
   "source": [
    "!pip install pillow"
   ]
  },
  {
   "cell_type": "code",
   "execution_count": 3,
   "id": "d10ffaaa",
   "metadata": {},
   "outputs": [],
   "source": [
    "import sys"
   ]
  },
  {
   "cell_type": "code",
   "execution_count": 4,
   "id": "eafe37a6",
   "metadata": {},
   "outputs": [],
   "source": [
    "from PIL import Image, ImageDraw, ImageFont"
   ]
  },
  {
   "cell_type": "code",
   "execution_count": 5,
   "id": "847d823d",
   "metadata": {},
   "outputs": [],
   "source": [
    "#load an images from a files\n",
    "\n",
    "ys_logo = Image.open('YS_Logo.png')\n",
    "DS_poster_1 = Image.open('BG_1.jpg')\n",
    "Jupyter_logo = Image.open('Jupyter_logo.png')\n",
    "Python_Logo = Image.open('python-logo.png')"
   ]
  },
  {
   "cell_type": "code",
   "execution_count": 6,
   "id": "65a9d255",
   "metadata": {},
   "outputs": [
    {
     "name": "stdout",
     "output_type": "stream",
     "text": [
      "PNG (400, 122) RGB\n"
     ]
    }
   ],
   "source": [
    "# the file contents:\n",
    "\n",
    "print(ys_logo.format, ys_logo.size, ys_logo.mode)"
   ]
  },
  {
   "cell_type": "code",
   "execution_count": 7,
   "id": "c97f65d8",
   "metadata": {},
   "outputs": [
    {
     "name": "stdout",
     "output_type": "stream",
     "text": [
      "JPEG (5934, 3338) RGB\n"
     ]
    }
   ],
   "source": [
    "# the file contents:\n",
    "\n",
    "print(DS_poster_1.format, DS_poster_1.size, DS_poster_1.mode)"
   ]
  },
  {
   "cell_type": "code",
   "execution_count": 8,
   "id": "a134dd9b",
   "metadata": {},
   "outputs": [
    {
     "name": "stderr",
     "output_type": "stream",
     "text": [
      "C:\\Users\\AKSHAY~1\\AppData\\Local\\Temp/ipykernel_22712/4175194858.py:3: DeprecationWarning: ANTIALIAS is deprecated and will be removed in Pillow 10 (2023-07-01). Use Resampling.LANCZOS instead.\n",
      "  DS_poster_1.thumbnail([sys.maxsize, 1024], Image.ANTIALIAS)\n"
     ]
    }
   ],
   "source": [
    "#resize the image using thumbnail:\n",
    "\n",
    "DS_poster_1.thumbnail([sys.maxsize, 1024], Image.ANTIALIAS)"
   ]
  },
  {
   "cell_type": "code",
   "execution_count": 9,
   "id": "8879f6ba",
   "metadata": {},
   "outputs": [
    {
     "name": "stdout",
     "output_type": "stream",
     "text": [
      "JPEG (1820, 1024) RGB\n"
     ]
    }
   ],
   "source": [
    "print(DS_poster_1.format, DS_poster_1.size, DS_poster_1.mode)"
   ]
  },
  {
   "cell_type": "code",
   "execution_count": 10,
   "id": "ff481833",
   "metadata": {},
   "outputs": [],
   "source": [
    "POSTER_1 = DS_poster_1.copy()\n",
    "\n",
    "#add other images on first image:\n",
    "POSTER_1.paste(ys_logo,(0,902))\n",
    "POSTER_1.paste(Python_Logo, (0,0))"
   ]
  },
  {
   "cell_type": "code",
   "execution_count": 11,
   "id": "a803ddf7",
   "metadata": {},
   "outputs": [],
   "source": [
    "#resize the image using resize:\n",
    "\n",
    "Jupyter_logo_resized = Image.open('Jupyter_logo.png')\n",
    "Jupyter_logo_resized = Jupyter_logo.resize((round(Jupyter_logo.size[0]*0.5), round(Jupyter_logo.size[1]*0.5)))\n",
    "\n",
    "POSTER_1.paste(Jupyter_logo_resized, (1600,0) , mask = Jupyter_logo_resized)\n",
    "POSTER_1.save('DS_poster_New_1.jpg' , quality=95)"
   ]
  },
  {
   "cell_type": "code",
   "execution_count": 12,
   "id": "3a704160",
   "metadata": {},
   "outputs": [],
   "source": [
    "# convert to RGBA for transparency\n",
    "POSTER_1_TEXT = Image.open('DS_poster_New_1.jpg').convert('RGBA')\n",
    "\n",
    "#define text font , size and colour\n",
    "txt = Image.new('RGBA', POSTER_1_TEXT.size, (255,255,255,0))\n",
    "fnt = ImageFont.truetype('SourceSansPro-Bold.ttf', 65)\n",
    "\n",
    "# get a drawing context\n",
    "d = ImageDraw.Draw(txt)\n",
    "\n",
    "# draw text, full opacity\n",
    "d.text((910,512), \"DATA SCIENCE TRAINING WITH INTERNSHIP PROGRAM\", font=fnt, fill=(255,255,255,255), anchor=\"ms\")\n",
    "\n",
    "# draw text, half opacity\n",
    "d.text((910,512), \"Course Duration : 6 Months \", font=fnt, fill=(255,255,255,128) , anchor=\"ma\")\n",
    "POSTER_NEW = Image.alpha_composite(POSTER_1_TEXT, txt)\n",
    "\n",
    "#display the image\n",
    "POSTER_NEW.show()\n",
    "\n",
    "#save the image as png\n",
    "\n",
    "POSTER_NEW.save('DS_poster_1.png', quality=95)"
   ]
  },
  {
   "cell_type": "markdown",
   "id": "6dd41090",
   "metadata": {},
   "source": [
    "### 2nd Image"
   ]
  },
  {
   "cell_type": "code",
   "execution_count": 13,
   "id": "2a7002eb",
   "metadata": {},
   "outputs": [],
   "source": [
    "#load an images\n",
    "B_partners = Image.open('Business_partners.png')\n",
    "DS_poster_2 = Image.open('BG_2.jpg')"
   ]
  },
  {
   "cell_type": "code",
   "execution_count": 14,
   "id": "393c1b5b",
   "metadata": {},
   "outputs": [
    {
     "name": "stdout",
     "output_type": "stream",
     "text": [
      "PNG (1155, 671) RGBA\n"
     ]
    }
   ],
   "source": [
    "print(B_partners.format, B_partners.size, B_partners.mode)"
   ]
  },
  {
   "cell_type": "code",
   "execution_count": 15,
   "id": "f0bef016",
   "metadata": {},
   "outputs": [
    {
     "name": "stderr",
     "output_type": "stream",
     "text": [
      "C:\\Users\\AKSHAY~1\\AppData\\Local\\Temp/ipykernel_22712/1677103487.py:1: DeprecationWarning: ANTIALIAS is deprecated and will be removed in Pillow 10 (2023-07-01). Use Resampling.LANCZOS instead.\n",
      "  B_partners.thumbnail([sys.maxsize, 640], Image.ANTIALIAS)\n"
     ]
    }
   ],
   "source": [
    "B_partners.thumbnail([sys.maxsize, 640], Image.ANTIALIAS)"
   ]
  },
  {
   "cell_type": "code",
   "execution_count": 16,
   "id": "0e5da308",
   "metadata": {},
   "outputs": [
    {
     "name": "stdout",
     "output_type": "stream",
     "text": [
      "PNG (1102, 640) RGBA\n"
     ]
    }
   ],
   "source": [
    "print(B_partners.format, B_partners.size, B_partners.mode)"
   ]
  },
  {
   "cell_type": "code",
   "execution_count": 17,
   "id": "c185f750",
   "metadata": {},
   "outputs": [
    {
     "name": "stdout",
     "output_type": "stream",
     "text": [
      "JPEG (7680, 4320) RGB\n"
     ]
    }
   ],
   "source": [
    "print(DS_poster_2.format, DS_poster_2.size, DS_poster_2.mode)"
   ]
  },
  {
   "cell_type": "code",
   "execution_count": 18,
   "id": "9aef4936",
   "metadata": {},
   "outputs": [
    {
     "name": "stderr",
     "output_type": "stream",
     "text": [
      "C:\\Users\\AKSHAY~1\\AppData\\Local\\Temp/ipykernel_22712/1141494737.py:1: DeprecationWarning: ANTIALIAS is deprecated and will be removed in Pillow 10 (2023-07-01). Use Resampling.LANCZOS instead.\n",
      "  DS_poster_2.thumbnail([sys.maxsize, 1024], Image.ANTIALIAS)\n"
     ]
    }
   ],
   "source": [
    "DS_poster_2.thumbnail([sys.maxsize, 1024], Image.ANTIALIAS)"
   ]
  },
  {
   "cell_type": "code",
   "execution_count": 19,
   "id": "6f023737",
   "metadata": {},
   "outputs": [
    {
     "name": "stdout",
     "output_type": "stream",
     "text": [
      "JPEG (1820, 1024) RGB\n"
     ]
    }
   ],
   "source": [
    "print(DS_poster_2.format, DS_poster_2.size, DS_poster_2.mode)"
   ]
  },
  {
   "cell_type": "code",
   "execution_count": 20,
   "id": "47ce7ec3",
   "metadata": {},
   "outputs": [],
   "source": [
    "POSTER_2 = DS_poster_2.copy()\n",
    "POSTER_2.paste(ys_logo,(0,902))\n",
    "POSTER_2.paste(Python_Logo, (0,0))\n",
    "POSTER_2.paste(B_partners, (400,200))"
   ]
  },
  {
   "cell_type": "code",
   "execution_count": 21,
   "id": "f0443681",
   "metadata": {},
   "outputs": [],
   "source": [
    "POSTER_2.paste(Jupyter_logo_resized, (1600,0) , mask = Jupyter_logo_resized)\n",
    "POSTER_2.save('DS_poster_New_2.jpg' , quality=95)"
   ]
  },
  {
   "cell_type": "code",
   "execution_count": 22,
   "id": "46b31423",
   "metadata": {},
   "outputs": [],
   "source": [
    "POSTER_2_TEXT = Image.open('DS_poster_New_2.jpg').convert('RGBA')\n",
    "txt = Image.new('RGBA', POSTER_2_TEXT.size, (255,255,255,0))\n",
    "fnt = ImageFont.truetype('SourceSansPro-Bold.ttf', 65)\n",
    "\n",
    "# get a drawing context\n",
    "d= ImageDraw.Draw(txt)\n",
    "\n",
    "# draw text, full opacity\n",
    "d.text((900,100), \"YOSHOPS BUSINESS PARTNERS\", font=fnt, fill=(255,255,255,255), anchor=\"ms\")\n",
    "\n",
    "POSTER_NEW_2 = Image.alpha_composite(POSTER_2_TEXT, txt)\n",
    "\n",
    "#display the image\n",
    "POSTER_NEW_2.show()\n",
    "\n",
    "#save the image as png\n",
    "POSTER_NEW_2.save('DS_poster_2.png', quality=95)"
   ]
  },
  {
   "cell_type": "markdown",
   "id": "2280e3cc",
   "metadata": {},
   "source": [
    "### 3rd Image"
   ]
  },
  {
   "cell_type": "code",
   "execution_count": 23,
   "id": "6c6f3370",
   "metadata": {},
   "outputs": [],
   "source": [
    "#load an images\n",
    "FOUNDERS = Image.open('Founders.jpg')\n",
    "DS_poster_3 = Image.open('BG_3.jpg')"
   ]
  },
  {
   "cell_type": "code",
   "execution_count": 24,
   "id": "47e1e399",
   "metadata": {},
   "outputs": [
    {
     "name": "stdout",
     "output_type": "stream",
     "text": [
      "(6000, 4000) RGB\n"
     ]
    }
   ],
   "source": [
    "print(DS_poster_3.size, DS_poster_3.mode)"
   ]
  },
  {
   "cell_type": "code",
   "execution_count": 25,
   "id": "beb49efe",
   "metadata": {},
   "outputs": [
    {
     "name": "stderr",
     "output_type": "stream",
     "text": [
      "C:\\Users\\AKSHAY~1\\AppData\\Local\\Temp/ipykernel_22712/4051777357.py:1: DeprecationWarning: ANTIALIAS is deprecated and will be removed in Pillow 10 (2023-07-01). Use Resampling.LANCZOS instead.\n",
      "  DS_poster_3.thumbnail([sys.maxsize, 1024], Image.ANTIALIAS)\n"
     ]
    }
   ],
   "source": [
    "DS_poster_3.thumbnail([sys.maxsize, 1024], Image.ANTIALIAS)"
   ]
  },
  {
   "cell_type": "code",
   "execution_count": 26,
   "id": "59bc78b7",
   "metadata": {},
   "outputs": [
    {
     "name": "stdout",
     "output_type": "stream",
     "text": [
      "(1536, 1024) RGB\n"
     ]
    }
   ],
   "source": [
    "print(DS_poster_3.size, DS_poster_3.mode)"
   ]
  },
  {
   "cell_type": "code",
   "execution_count": 27,
   "id": "e4d7195f",
   "metadata": {},
   "outputs": [],
   "source": [
    "POSTER_3 = DS_poster_3.copy()\n",
    "POSTER_3.paste(ys_logo,(600,800))\n",
    "POSTER_3.paste(Python_Logo, (0,0))\n",
    "POSTER_3.paste(FOUNDERS, (500,300))"
   ]
  },
  {
   "cell_type": "code",
   "execution_count": 28,
   "id": "b3e303b7",
   "metadata": {},
   "outputs": [],
   "source": [
    "POSTER_3.paste(Jupyter_logo_resized, (1300,0) , mask = Jupyter_logo_resized)\n",
    "POSTER_3.save('DS_poster_New_3.jpg' , quality=95)"
   ]
  },
  {
   "cell_type": "code",
   "execution_count": 29,
   "id": "124aee16",
   "metadata": {},
   "outputs": [],
   "source": [
    "POSTER_3_TEXT = Image.open('DS_poster_New_3.jpg').convert('RGBA')\n",
    "txt = Image.new('RGBA', POSTER_3_TEXT.size, (255,255,255,0))\n",
    "fnt = ImageFont.truetype('BreakExtraLight.ttf', 65)\n",
    "\n",
    "# get a drawing context\n",
    "d = ImageDraw.Draw(txt)\n",
    "\n",
    "# draw text, full opacity\n",
    "d.text((800,100), \"YOSHOPS FOUNDERS\", font=fnt, fill=(255,255,255,255), anchor=\"ms\")\n",
    "\n",
    "POSTER_NEW_3 = Image.alpha_composite(POSTER_3_TEXT, txt)\n",
    "\n",
    "#display the image\n",
    "POSTER_NEW_3.show()\n",
    "\n",
    "#save the image as png\n",
    "POSTER_NEW_3.save('DS_poster_3.png',quality=95)"
   ]
  },
  {
   "cell_type": "markdown",
   "id": "dce3776b",
   "metadata": {},
   "source": [
    "### 4th Image"
   ]
  },
  {
   "cell_type": "code",
   "execution_count": 30,
   "id": "e017da40",
   "metadata": {},
   "outputs": [],
   "source": [
    "#load an image\n",
    "DS_poster_4 = Image.open('BG_4.jpg')"
   ]
  },
  {
   "cell_type": "code",
   "execution_count": 31,
   "id": "3cc0af8b",
   "metadata": {},
   "outputs": [
    {
     "name": "stdout",
     "output_type": "stream",
     "text": [
      "(4078, 2719) RGB\n"
     ]
    }
   ],
   "source": [
    "print(DS_poster_4.size, DS_poster_4.mode)"
   ]
  },
  {
   "cell_type": "code",
   "execution_count": 32,
   "id": "a94ef976",
   "metadata": {},
   "outputs": [
    {
     "name": "stderr",
     "output_type": "stream",
     "text": [
      "C:\\Users\\AKSHAY~1\\AppData\\Local\\Temp/ipykernel_22712/2106895584.py:1: DeprecationWarning: ANTIALIAS is deprecated and will be removed in Pillow 10 (2023-07-01). Use Resampling.LANCZOS instead.\n",
      "  DS_poster_4.thumbnail([sys.maxsize, 1024], Image.ANTIALIAS)\n"
     ]
    }
   ],
   "source": [
    "DS_poster_4.thumbnail([sys.maxsize, 1024], Image.ANTIALIAS)"
   ]
  },
  {
   "cell_type": "code",
   "execution_count": 33,
   "id": "a94c98f3",
   "metadata": {},
   "outputs": [
    {
     "name": "stdout",
     "output_type": "stream",
     "text": [
      "(1536, 1024) RGB\n"
     ]
    }
   ],
   "source": [
    "print(DS_poster_4.size, DS_poster_4.mode)"
   ]
  },
  {
   "cell_type": "code",
   "execution_count": 34,
   "id": "074aeaef",
   "metadata": {},
   "outputs": [],
   "source": [
    "POSTER_4 = DS_poster_4.copy()\n",
    "POSTER_4.paste(ys_logo,(0,902))\n",
    "POSTER_4.paste(Python_Logo, (1350,0))\n",
    "POSTER_4.paste(Jupyter_logo_resized, (0,0) , mask = Jupyter_logo_resized)\n",
    "POSTER_4.save('DS_poster_New_4.jpg' , quality=95)"
   ]
  },
  {
   "cell_type": "code",
   "execution_count": 35,
   "id": "9650ce64",
   "metadata": {},
   "outputs": [],
   "source": [
    "POSTER_4_TEXT = Image.open('DS_poster_New_4.jpg').convert('RGBA')\n",
    "txt = Image.new('RGBA', POSTER_4_TEXT.size, (255,255,255,0))\n",
    "fnt = ImageFont.truetype('Bornspeed-Regular.ttf', 55)\n",
    "fnt2 = ImageFont.truetype('SourceSansPro-Bold.ttf', 35)\n",
    "# get a drawing context\n",
    "d = ImageDraw.Draw(txt)\n",
    "\n",
    "# draw text, full opacity\n",
    "d.text((580,310), \"YOSHOPS\\nREFERRAL PROGRAM\", font=fnt, fill=(0,0,0,255), anchor=\"ms\")\n",
    "\n",
    "# draw text, half opacity\n",
    "d.text((1250,110), \"Refer a friend\\nto Join Training\\nInternship and\\nGet Free\\nInternship Gift \", font=fnt, fill=(255,255,255,128) , anchor=\"ma\")\n",
    "\n",
    "#draw text, half opacity\n",
    "d.text((1250,430), \"Get Free Gift\\n(Wallet, Bag, Earphone)\\nValue of ₹2000 from Yoshops.com\", font=fnt2, fill=(255,255,255,200) , anchor=\"ma\")\n",
    "\n",
    "# draw text, full opacity\n",
    "d.text((630,430), \"step 1 - Click on link\\nStep 2 - Update Mobile No and E-mail ID\\nand verify and submit it\\nCash on Delivery available\\nUse Coupon Code Gift\\nand Get Free This Gift Items\", font=fnt2, fill=(0,0,0,255), anchor=\"ms\")\n",
    "\n",
    "POSTER_NEW_4 = Image.alpha_composite(POSTER_4_TEXT, txt)\n",
    "\n",
    "#display the image\n",
    "POSTER_NEW_4.show()\n",
    "\n",
    "#save the image as png\n",
    "POSTER_NEW_4.save('DS_poster_4.png', quality=95)"
   ]
  },
  {
   "cell_type": "markdown",
   "id": "43fa7393",
   "metadata": {},
   "source": [
    "### 5th Image"
   ]
  },
  {
   "cell_type": "code",
   "execution_count": 36,
   "id": "dd347546",
   "metadata": {},
   "outputs": [],
   "source": [
    "#load an images\n",
    "DS_poster_5 = Image.open('BG_5.jpg')\n",
    "Laptop = Image.open('laptop.png')\n",
    "JIO = Image.open('Jio.png')"
   ]
  },
  {
   "cell_type": "code",
   "execution_count": 37,
   "id": "8f86d6ae",
   "metadata": {},
   "outputs": [
    {
     "name": "stdout",
     "output_type": "stream",
     "text": [
      "RGB (5760, 3840)\n"
     ]
    }
   ],
   "source": [
    "print(DS_poster_5.mode, DS_poster_5.size)"
   ]
  },
  {
   "cell_type": "code",
   "execution_count": 38,
   "id": "03beec42",
   "metadata": {},
   "outputs": [
    {
     "name": "stdout",
     "output_type": "stream",
     "text": [
      "RGBA (4042, 3027)\n"
     ]
    }
   ],
   "source": [
    "print(Laptop.mode, Laptop.size)"
   ]
  },
  {
   "cell_type": "code",
   "execution_count": 39,
   "id": "231e8b2f",
   "metadata": {},
   "outputs": [
    {
     "name": "stderr",
     "output_type": "stream",
     "text": [
      "C:\\Users\\AKSHAY~1\\AppData\\Local\\Temp/ipykernel_22712/2590180163.py:1: DeprecationWarning: ANTIALIAS is deprecated and will be removed in Pillow 10 (2023-07-01). Use Resampling.LANCZOS instead.\n",
      "  Laptop.thumbnail([sys.maxsize, 1024], Image.ANTIALIAS)\n"
     ]
    }
   ],
   "source": [
    "Laptop.thumbnail([sys.maxsize, 1024], Image.ANTIALIAS)"
   ]
  },
  {
   "cell_type": "code",
   "execution_count": 40,
   "id": "66ebdc6f",
   "metadata": {},
   "outputs": [
    {
     "name": "stdout",
     "output_type": "stream",
     "text": [
      "RGBA (1367, 1024)\n"
     ]
    }
   ],
   "source": [
    "print(Laptop.mode, Laptop.size)"
   ]
  },
  {
   "cell_type": "code",
   "execution_count": 41,
   "id": "e804c14b",
   "metadata": {},
   "outputs": [
    {
     "name": "stdout",
     "output_type": "stream",
     "text": [
      "RGBA (984, 982)\n"
     ]
    }
   ],
   "source": [
    "print(JIO.mode, JIO.size)"
   ]
  },
  {
   "cell_type": "code",
   "execution_count": 42,
   "id": "15fec4c0",
   "metadata": {},
   "outputs": [
    {
     "name": "stderr",
     "output_type": "stream",
     "text": [
      "C:\\Users\\AKSHAY~1\\AppData\\Local\\Temp/ipykernel_22712/1002541876.py:1: DeprecationWarning: ANTIALIAS is deprecated and will be removed in Pillow 10 (2023-07-01). Use Resampling.LANCZOS instead.\n",
      "  DS_poster_5.thumbnail([sys.maxsize, 1024], Image.ANTIALIAS)\n"
     ]
    }
   ],
   "source": [
    "DS_poster_5.thumbnail([sys.maxsize, 1024], Image.ANTIALIAS)"
   ]
  },
  {
   "cell_type": "code",
   "execution_count": 43,
   "id": "f485e34a",
   "metadata": {},
   "outputs": [],
   "source": [
    "POSTER_5 = DS_poster_5.copy()\n",
    "POSTER_5.paste(ys_logo,(0,902))\n",
    "POSTER_5.paste(Python_Logo, (0,0))\n",
    "POSTER_5.paste(Jupyter_logo_resized, (1300,0) , mask = Jupyter_logo_resized)\n",
    "laptop_resized = Image.open('laptop.png')\n",
    "laptop_resized = Laptop.resize((round(Laptop.size[0]*0.5), round(Laptop.size[1]*0.5)))\n",
    "POSTER_5.paste(laptop_resized, (400,400) , mask = laptop_resized)\n",
    "Jio_resized = Image.open('Jio.png')\n",
    "Jio_resized = JIO.resize((round(JIO.size[0]*0.25), round(JIO.size[1]*0.25)))\n",
    "POSTER_5.paste(Jio_resized, (610,430) , mask = Jio_resized)\n",
    "POSTER_5.save('DS_poster_New_5.jpg' , quality=95)"
   ]
  },
  {
   "cell_type": "code",
   "execution_count": 44,
   "id": "cca8d725",
   "metadata": {},
   "outputs": [],
   "source": [
    "POSTER_5_TEXT = Image.open('DS_poster_New_5.jpg').convert('RGBA')\n",
    "txt = Image.new('RGBA', POSTER_5_TEXT.size, (255,255,255,0))\n",
    "fnt = ImageFont.truetype('Bornspeed-Regular.ttf', 50)\n",
    "fnt2 = ImageFont.truetype('SourceSansPro-Bold.ttf', 45)\n",
    "# get a drawing context\n",
    "d = ImageDraw.Draw(txt)\n",
    "# draw text, full opacity\n",
    "d.text((750,200), \"Data Science Training Internship Program\\nwith Free Gift JioBook Laptop\", font=fnt, fill=(255,255,255,200), anchor=\"ms\")\n",
    "\n",
    "# draw text, half opacity\n",
    "d.text((750,300), \"Apply Now and Get Free JioBook Laptop\", font=fnt2, fill=(255,255,255,128) , anchor=\"ma\")\n",
    "\n",
    "POSTER_NEW_5 = Image.alpha_composite(POSTER_5_TEXT, txt)\n",
    "\n",
    "#display the image\n",
    "POSTER_NEW_5.show()\n",
    "\n",
    "#save the image as png\n",
    "POSTER_NEW_5.save('DS_poster_5.png', quality=95)"
   ]
  }
 ],
 "metadata": {
  "kernelspec": {
   "display_name": "Python 3 (ipykernel)",
   "language": "python",
   "name": "python3"
  },
  "language_info": {
   "codemirror_mode": {
    "name": "ipython",
    "version": 3
   },
   "file_extension": ".py",
   "mimetype": "text/x-python",
   "name": "python",
   "nbconvert_exporter": "python",
   "pygments_lexer": "ipython3",
   "version": "3.9.7"
  }
 },
 "nbformat": 4,
 "nbformat_minor": 5
}
