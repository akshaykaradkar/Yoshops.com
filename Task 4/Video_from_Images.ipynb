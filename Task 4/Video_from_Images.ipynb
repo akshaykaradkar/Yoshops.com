{
 "cells": [
  {
   "cell_type": "code",
   "execution_count": 3,
   "id": "45fa2954",
   "metadata": {},
   "outputs": [
    {
     "name": "stdout",
     "output_type": "stream",
     "text": [
      "Successfully created video: Yoshops_banners.avi\n"
     ]
    }
   ],
   "source": [
    "import numpy as np\n",
    "import cv2\n",
    "import os\n",
    " \n",
    "# Set video parameters\n",
    "width = 1280\n",
    "height = 720\n",
    "channel = 3\n",
    "fps = 2\n",
    "duration = 20 # in seconds\n",
    "fourcc = cv2.VideoWriter_fourcc(*'MP42')\n",
    "\n",
    "# Create output video file\n",
    "output_file = 'Yoshops_banners.avi'\n",
    "video = cv2.VideoWriter(output_file, fourcc, float(fps), (width, height))\n",
    "\n",
    "# Get list of image file names from directory\n",
    "directory = r'D:\\Yoshops\\Task - 4'\n",
    "img_name_list = os.listdir(directory)\n",
    "\n",
    "# Loop through the number of frames needed for duration\n",
    "for frame_count in range(fps*duration):\n",
    "    # Select a random image from the list\n",
    "    img_name = np.random.choice(img_name_list)\n",
    "    img_path = os.path.join(directory, img_name)\n",
    "    img = cv2.imread(img_path)\n",
    "    \n",
    "    # Check if image was successfully read\n",
    "    if img is None:\n",
    "        print(f\"Failed to read image: {img_path}\")\n",
    "        continue\n",
    "   \n",
    "    # Resize image to video resolution\n",
    "    img_resized = cv2.resize(img, (width, height))\n",
    "    \n",
    "    # Add image to video\n",
    "    video.write(img_resized)\n",
    "\n",
    "# Release video\n",
    "video.release()\n",
    "print(f\"Successfully created video: {output_file}\")"
   ]
  },
  {
   "cell_type": "code",
   "execution_count": 4,
   "id": "b294f67c",
   "metadata": {},
   "outputs": [
    {
     "name": "stdout",
     "output_type": "stream",
     "text": [
      "Requirement already satisfied: moviepy in c:\\users\\akshay karadkar\\anaconda3\\lib\\site-packages (1.0.3)\n",
      "Requirement already satisfied: imageio-ffmpeg>=0.2.0 in c:\\users\\akshay karadkar\\anaconda3\\lib\\site-packages (from moviepy) (0.4.7)\n",
      "Requirement already satisfied: proglog<=1.0.0 in c:\\users\\akshay karadkar\\anaconda3\\lib\\site-packages (from moviepy) (0.1.10)\n",
      "Requirement already satisfied: decorator<5.0,>=4.0.2 in c:\\users\\akshay karadkar\\anaconda3\\lib\\site-packages (from moviepy) (4.4.2)\n",
      "Requirement already satisfied: numpy>=1.17.3 in c:\\users\\akshay karadkar\\anaconda3\\lib\\site-packages (from moviepy) (1.20.3)\n",
      "Requirement already satisfied: requests<3.0,>=2.8.1 in c:\\users\\akshay karadkar\\anaconda3\\lib\\site-packages (from moviepy) (2.26.0)\n",
      "Requirement already satisfied: tqdm<5.0,>=4.11.2 in c:\\users\\akshay karadkar\\anaconda3\\lib\\site-packages (from moviepy) (4.62.3)\n",
      "Requirement already satisfied: imageio<3.0,>=2.5 in c:\\users\\akshay karadkar\\anaconda3\\lib\\site-packages (from moviepy) (2.9.0)\n",
      "Requirement already satisfied: pillow in c:\\users\\akshay karadkar\\anaconda3\\lib\\site-packages (from imageio<3.0,>=2.5->moviepy) (9.3.0)\n",
      "Requirement already satisfied: idna<4,>=2.5 in c:\\users\\akshay karadkar\\anaconda3\\lib\\site-packages (from requests<3.0,>=2.8.1->moviepy) (3.2)\n",
      "Requirement already satisfied: charset-normalizer~=2.0.0 in c:\\users\\akshay karadkar\\anaconda3\\lib\\site-packages (from requests<3.0,>=2.8.1->moviepy) (2.0.4)\n",
      "Requirement already satisfied: urllib3<1.27,>=1.21.1 in c:\\users\\akshay karadkar\\anaconda3\\lib\\site-packages (from requests<3.0,>=2.8.1->moviepy) (1.26.7)\n",
      "Requirement already satisfied: certifi>=2017.4.17 in c:\\users\\akshay karadkar\\anaconda3\\lib\\site-packages (from requests<3.0,>=2.8.1->moviepy) (2021.10.8)\n",
      "Requirement already satisfied: colorama in c:\\users\\akshay karadkar\\anaconda3\\lib\\site-packages (from tqdm<5.0,>=4.11.2->moviepy) (0.4.4)\n",
      "Moviepy - Building video Output_with_sound.mp4.\n",
      "MoviePy - Writing audio in Output_with_soundTEMP_MPY_wvf_snd.mp3\n"
     ]
    },
    {
     "name": "stderr",
     "output_type": "stream",
     "text": [
      "                                                                                                                       \r"
     ]
    },
    {
     "name": "stdout",
     "output_type": "stream",
     "text": [
      "MoviePy - Done.\n",
      "Moviepy - Writing video Output_with_sound.mp4\n",
      "\n"
     ]
    },
    {
     "name": "stderr",
     "output_type": "stream",
     "text": [
      "                                                                                                                       \r"
     ]
    },
    {
     "name": "stdout",
     "output_type": "stream",
     "text": [
      "Moviepy - Done !\n",
      "Moviepy - video ready Output_with_sound.mp4\n",
      "Successfully created video: Output_with_sound.mp4\n"
     ]
    }
   ],
   "source": [
    "#adding background music to a video\n",
    "\n",
    "!pip install moviepy\n",
    "import moviepy.editor as mpe\n",
    "\n",
    "from moviepy.editor import *\n",
    "\n",
    "input_video_clip = \"Yoshops_banners.avi\"\n",
    "input_audio_clip = \"Audio.mp3\"\n",
    "output_video_clip = \"Output_with_sound.mp4\"\n",
    "\n",
    "video_clip = mpe.VideoFileClip(input_video_clip)\n",
    "audio_clip = mpe.AudioFileClip(input_audio_clip)\n",
    "\n",
    "Final = video_clip.set_audio(audio_clip)\n",
    "\n",
    "Final.write_videofile(output_video_clip, fps=60 ,codec=\"libx264\")\n",
    "\n",
    "print(f\"Successfully created video: {output_video_clip}\")"
   ]
  }
 ],
 "metadata": {
  "kernelspec": {
   "display_name": "Python 3 (ipykernel)",
   "language": "python",
   "name": "python3"
  },
  "language_info": {
   "codemirror_mode": {
    "name": "ipython",
    "version": 3
   },
   "file_extension": ".py",
   "mimetype": "text/x-python",
   "name": "python",
   "nbconvert_exporter": "python",
   "pygments_lexer": "ipython3",
   "version": "3.9.7"
  }
 },
 "nbformat": 4,
 "nbformat_minor": 5
}
