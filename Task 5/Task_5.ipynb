{
 "cells": [
  {
   "cell_type": "markdown",
   "id": "900fd6c3",
   "metadata": {},
   "source": [
    "# Write a Python programme to merge two excel file data to one file"
   ]
  },
  {
   "cell_type": "code",
   "execution_count": 1,
   "id": "f93d991a",
   "metadata": {},
   "outputs": [],
   "source": [
    "import os\n",
    "import pandas as pd\n",
    "cwd = os.path.abspath('') \n",
    "files = os.listdir(cwd)"
   ]
  },
  {
   "cell_type": "code",
   "execution_count": 2,
   "id": "618a5ebb",
   "metadata": {},
   "outputs": [
    {
     "data": {
      "text/plain": [
       "'C:\\\\Users\\\\Akshay Karadkar\\\\Task 5'"
      ]
     },
     "execution_count": 2,
     "metadata": {},
     "output_type": "execute_result"
    }
   ],
   "source": [
    "cwd"
   ]
  },
  {
   "cell_type": "code",
   "execution_count": 3,
   "id": "9b71dc85",
   "metadata": {},
   "outputs": [
    {
     "data": {
      "text/plain": [
       "['.ipynb_checkpoints',\n",
       " '1Ckg.gif',\n",
       " '26Pc.gif',\n",
       " '2GU.gif',\n",
       " '4Mop.gif',\n",
       " '7Fk.gif',\n",
       " 'BE Sem 5.pdf',\n",
       " 'BE Sem 6.pdf',\n",
       " 'BE Sem 7.pdf',\n",
       " 'BE Sem 8.pdf',\n",
       " 'BG_1.jpg',\n",
       " 'BG_10.jpg',\n",
       " 'BG_2.jpg',\n",
       " 'BG_3.jpg',\n",
       " 'BG_4.jpg',\n",
       " 'BG_5.jpg',\n",
       " 'BG_6.jpg',\n",
       " 'BG_7.jpg',\n",
       " 'BG_8.jpg',\n",
       " 'BG_9.jpg',\n",
       " 'Biryani.xlsx',\n",
       " 'Books.xlsx',\n",
       " 'Degree Certificate.pdf',\n",
       " 'diamonds.csv',\n",
       " 'DS_poster_1.png',\n",
       " 'DS_poster_2.png',\n",
       " 'DS_poster_3.png',\n",
       " 'DS_poster_4.png',\n",
       " 'DS_poster_5.png',\n",
       " 'duplicates.csv',\n",
       " 'Jio.png',\n",
       " 'Jupyter_logo.png',\n",
       " 'laptop.png',\n",
       " 'Led-TV.xlsx',\n",
       " 'Men.xlsx',\n",
       " 'Mixer-Grinder-Juicer.xlsx',\n",
       " 'NLP - Sentiment analysis.html',\n",
       " 'NLP - Sentiment analysis.ipynb',\n",
       " 'orders_2016-2020_Dataset.csv',\n",
       " 'python-logo.png',\n",
       " 'Python.png',\n",
       " 'review_dataset.csv',\n",
       " 'Sem 1.pdf',\n",
       " 'Sem 2.pdf',\n",
       " 'Sem 3.pdf',\n",
       " 'Sem 4.pdf',\n",
       " 'Smartphones.xlsx',\n",
       " 'soft_toys.xlsx',\n",
       " 'Tablets.xlsx',\n",
       " 'total_sales.xlsx',\n",
       " 'Tree-map drill down.pdf',\n",
       " 'Untitled.ipynb',\n",
       " 'WkJ.gif',\n",
       " 'XaDe.gif',\n",
       " 'Yml4.gif',\n",
       " 'ZFye.gif',\n",
       " 'ZHVa.gif']"
      ]
     },
     "execution_count": 3,
     "metadata": {},
     "output_type": "execute_result"
    }
   ],
   "source": [
    "files"
   ]
  },
  {
   "cell_type": "code",
   "execution_count": 4,
   "id": "0b656f38",
   "metadata": {},
   "outputs": [
    {
     "data": {
      "text/html": [
       "<div>\n",
       "<style scoped>\n",
       "    .dataframe tbody tr th:only-of-type {\n",
       "        vertical-align: middle;\n",
       "    }\n",
       "\n",
       "    .dataframe tbody tr th {\n",
       "        vertical-align: top;\n",
       "    }\n",
       "\n",
       "    .dataframe thead th {\n",
       "        text-align: right;\n",
       "    }\n",
       "</style>\n",
       "<table border=\"1\" class=\"dataframe\">\n",
       "  <thead>\n",
       "    <tr style=\"text-align: right;\">\n",
       "      <th></th>\n",
       "      <th>Unnamed: 0</th>\n",
       "      <th>Category</th>\n",
       "      <th>Sub-Category</th>\n",
       "      <th>Product_Name</th>\n",
       "      <th>Product Count</th>\n",
       "      <th>Unnamed: 0.1</th>\n",
       "    </tr>\n",
       "  </thead>\n",
       "  <tbody>\n",
       "    <tr>\n",
       "      <th>0</th>\n",
       "      <td>0</td>\n",
       "      <td>Foods</td>\n",
       "      <td>Biryani</td>\n",
       "      <td>1KG Chicken Biryani (Chennai)</td>\n",
       "      <td>1</td>\n",
       "      <td>NaN</td>\n",
       "    </tr>\n",
       "    <tr>\n",
       "      <th>1</th>\n",
       "      <td>1</td>\n",
       "      <td>Foods</td>\n",
       "      <td>Biryani</td>\n",
       "      <td>1 Bucket Chicken Biryani Party Pack 5kg (Chennai)</td>\n",
       "      <td>1</td>\n",
       "      <td>NaN</td>\n",
       "    </tr>\n",
       "    <tr>\n",
       "      <th>2</th>\n",
       "      <td>2</td>\n",
       "      <td>Foods</td>\n",
       "      <td>Biryani</td>\n",
       "      <td>Quarter Chicken Biryani (Chennai)</td>\n",
       "      <td>1</td>\n",
       "      <td>NaN</td>\n",
       "    </tr>\n",
       "    <tr>\n",
       "      <th>3</th>\n",
       "      <td>3</td>\n",
       "      <td>Foods</td>\n",
       "      <td>Biryani</td>\n",
       "      <td>Chicken Biriyani Combo Meal - 1/2 kg Biryani+1...</td>\n",
       "      <td>1</td>\n",
       "      <td>NaN</td>\n",
       "    </tr>\n",
       "    <tr>\n",
       "      <th>4</th>\n",
       "      <td>4</td>\n",
       "      <td>Foods</td>\n",
       "      <td>Biryani</td>\n",
       "      <td>Chicken Pakora-200Gm (Chennai)</td>\n",
       "      <td>1</td>\n",
       "      <td>NaN</td>\n",
       "    </tr>\n",
       "  </tbody>\n",
       "</table>\n",
       "</div>"
      ],
      "text/plain": [
       "  Unnamed: 0 Category Sub-Category  \\\n",
       "0          0    Foods      Biryani   \n",
       "1          1    Foods      Biryani   \n",
       "2          2    Foods      Biryani   \n",
       "3          3    Foods      Biryani   \n",
       "4          4    Foods      Biryani   \n",
       "\n",
       "                                        Product_Name  Product Count  \\\n",
       "0                      1KG Chicken Biryani (Chennai)              1   \n",
       "1  1 Bucket Chicken Biryani Party Pack 5kg (Chennai)              1   \n",
       "2                  Quarter Chicken Biryani (Chennai)              1   \n",
       "3  Chicken Biriyani Combo Meal - 1/2 kg Biryani+1...              1   \n",
       "4                     Chicken Pakora-200Gm (Chennai)              1   \n",
       "\n",
       "  Unnamed: 0.1  \n",
       "0          NaN  \n",
       "1          NaN  \n",
       "2          NaN  \n",
       "3          NaN  \n",
       "4          NaN  "
      ]
     },
     "execution_count": 4,
     "metadata": {},
     "output_type": "execute_result"
    }
   ],
   "source": [
    "df = pd.DataFrame()\n",
    "for file in files:\n",
    "     if file.endswith('.xlsx'):\n",
    "         df = df.append(pd.read_excel(file), ignore_index=True) \n",
    "df.head()"
   ]
  },
  {
   "cell_type": "code",
   "execution_count": 5,
   "id": "7ae054d1",
   "metadata": {},
   "outputs": [
    {
     "data": {
      "text/plain": [
       "(226, 6)"
      ]
     },
     "execution_count": 5,
     "metadata": {},
     "output_type": "execute_result"
    }
   ],
   "source": [
    "df.shape"
   ]
  },
  {
   "cell_type": "code",
   "execution_count": 6,
   "id": "4a50a0cb",
   "metadata": {},
   "outputs": [],
   "source": [
    "df.to_excel('total_sales.xlsx')"
   ]
  },
  {
   "cell_type": "markdown",
   "id": "0b6fe900",
   "metadata": {},
   "source": [
    "### Sort files in different folders"
   ]
  },
  {
   "cell_type": "code",
   "execution_count": 7,
   "id": "9e7833cf",
   "metadata": {},
   "outputs": [],
   "source": [
    "import glob\n",
    "import shutil"
   ]
  },
  {
   "cell_type": "code",
   "execution_count": 8,
   "id": "ea74d258",
   "metadata": {},
   "outputs": [],
   "source": [
    "extensions = {\n",
    "    \"jpg\": \"images\",\n",
    "    \"png\": \"images\",\n",
    "    \"gif\": \"gifs\",\n",
    "    \"pdf\": \"pdf files\",\n",
    "    \"xlsx\": \"excel files\",\n",
    "    \"csv\" : \"excel files\",\n",
    "}"
   ]
  },
  {
   "cell_type": "code",
   "execution_count": 9,
   "id": "694339c0",
   "metadata": {},
   "outputs": [
    {
     "name": "stdout",
     "output_type": "stream",
     "text": [
      "[*] Found 10 files with jpg extension\n",
      "[+] Making images folder\n",
      "[*] Found 10 files with png extension\n",
      "[*] Found 10 files with gif extension\n",
      "[+] Making gifs folder\n",
      "[*] Found 10 files with pdf extension\n",
      "[+] Making pdf files folder\n",
      "[*] Found 9 files with xlsx extension\n",
      "[+] Making excel files folder\n",
      "[*] Found 4 files with csv extension\n"
     ]
    }
   ],
   "source": [
    "path = cwd\n",
    "    # setting verbose to 1 (or True) will show all file moves\n",
    "    # setting verbose to 0 (or False) will show basic necessary info\n",
    "verbose = 0\n",
    "for extension, folder_name in extensions.items():\n",
    "    # get all the files matching the extension\n",
    "    files = glob.glob(os.path.join(path, f\"*.{extension}\"))\n",
    "    print(f\"[*] Found {len(files)} files with {extension} extension\")\n",
    "    if not os.path.isdir(os.path.join(path, folder_name)) and files:\n",
    "        # create the folder if it does not exist before\n",
    "        print(f\"[+] Making {folder_name} folder\")\n",
    "        os.mkdir(os.path.join(path, folder_name))\n",
    "    for file in files:\n",
    "        # for each file in that extension, move it to the correponding folder\n",
    "        basename = os.path.basename(file)\n",
    "        dst = os.path.join(path, folder_name, basename)\n",
    "        if verbose:\n",
    "            print(f\"[*] Moving {file} to {dst}\")\n",
    "        shutil.move(file, dst)"
   ]
  },
  {
   "cell_type": "markdown",
   "id": "fa4afde0",
   "metadata": {},
   "source": [
    "## Write a python program to separate duplicate file"
   ]
  },
  {
   "cell_type": "code",
   "execution_count": 10,
   "id": "17c57673",
   "metadata": {},
   "outputs": [],
   "source": [
    "import pandas as pd"
   ]
  },
  {
   "cell_type": "code",
   "execution_count": 11,
   "id": "b82d4e53",
   "metadata": {},
   "outputs": [],
   "source": [
    "diamonds_data = pd.read_csv('diamonds.csv')"
   ]
  },
  {
   "cell_type": "code",
   "execution_count": 12,
   "id": "7e18b5ad",
   "metadata": {},
   "outputs": [
    {
     "data": {
      "text/html": [
       "<div>\n",
       "<style scoped>\n",
       "    .dataframe tbody tr th:only-of-type {\n",
       "        vertical-align: middle;\n",
       "    }\n",
       "\n",
       "    .dataframe tbody tr th {\n",
       "        vertical-align: top;\n",
       "    }\n",
       "\n",
       "    .dataframe thead th {\n",
       "        text-align: right;\n",
       "    }\n",
       "</style>\n",
       "<table border=\"1\" class=\"dataframe\">\n",
       "  <thead>\n",
       "    <tr style=\"text-align: right;\">\n",
       "      <th></th>\n",
       "      <th>carat</th>\n",
       "      <th>cut</th>\n",
       "      <th>color</th>\n",
       "      <th>clarity</th>\n",
       "      <th>depth</th>\n",
       "      <th>table</th>\n",
       "      <th>price</th>\n",
       "      <th>x</th>\n",
       "      <th>y</th>\n",
       "      <th>z</th>\n",
       "    </tr>\n",
       "  </thead>\n",
       "  <tbody>\n",
       "    <tr>\n",
       "      <th>0</th>\n",
       "      <td>0.23</td>\n",
       "      <td>Ideal</td>\n",
       "      <td>E</td>\n",
       "      <td>SI2</td>\n",
       "      <td>61.5</td>\n",
       "      <td>55.0</td>\n",
       "      <td>326</td>\n",
       "      <td>3.95</td>\n",
       "      <td>3.98</td>\n",
       "      <td>2.43</td>\n",
       "    </tr>\n",
       "    <tr>\n",
       "      <th>1</th>\n",
       "      <td>0.21</td>\n",
       "      <td>Premium</td>\n",
       "      <td>E</td>\n",
       "      <td>SI1</td>\n",
       "      <td>59.8</td>\n",
       "      <td>61.0</td>\n",
       "      <td>326</td>\n",
       "      <td>3.89</td>\n",
       "      <td>3.84</td>\n",
       "      <td>2.31</td>\n",
       "    </tr>\n",
       "    <tr>\n",
       "      <th>2</th>\n",
       "      <td>0.23</td>\n",
       "      <td>Good</td>\n",
       "      <td>E</td>\n",
       "      <td>VS1</td>\n",
       "      <td>56.9</td>\n",
       "      <td>65.0</td>\n",
       "      <td>327</td>\n",
       "      <td>4.05</td>\n",
       "      <td>4.07</td>\n",
       "      <td>2.31</td>\n",
       "    </tr>\n",
       "    <tr>\n",
       "      <th>3</th>\n",
       "      <td>0.29</td>\n",
       "      <td>Premium</td>\n",
       "      <td>I</td>\n",
       "      <td>VS2</td>\n",
       "      <td>62.4</td>\n",
       "      <td>58.0</td>\n",
       "      <td>334</td>\n",
       "      <td>4.20</td>\n",
       "      <td>4.23</td>\n",
       "      <td>2.63</td>\n",
       "    </tr>\n",
       "    <tr>\n",
       "      <th>4</th>\n",
       "      <td>0.31</td>\n",
       "      <td>Good</td>\n",
       "      <td>J</td>\n",
       "      <td>SI2</td>\n",
       "      <td>63.3</td>\n",
       "      <td>58.0</td>\n",
       "      <td>335</td>\n",
       "      <td>4.34</td>\n",
       "      <td>4.35</td>\n",
       "      <td>2.75</td>\n",
       "    </tr>\n",
       "  </tbody>\n",
       "</table>\n",
       "</div>"
      ],
      "text/plain": [
       "   carat      cut color clarity  depth  table  price     x     y     z\n",
       "0   0.23    Ideal     E     SI2   61.5   55.0    326  3.95  3.98  2.43\n",
       "1   0.21  Premium     E     SI1   59.8   61.0    326  3.89  3.84  2.31\n",
       "2   0.23     Good     E     VS1   56.9   65.0    327  4.05  4.07  2.31\n",
       "3   0.29  Premium     I     VS2   62.4   58.0    334  4.20  4.23  2.63\n",
       "4   0.31     Good     J     SI2   63.3   58.0    335  4.34  4.35  2.75"
      ]
     },
     "execution_count": 12,
     "metadata": {},
     "output_type": "execute_result"
    }
   ],
   "source": [
    "diamonds_data.head()"
   ]
  },
  {
   "cell_type": "code",
   "execution_count": 13,
   "id": "a742df81",
   "metadata": {},
   "outputs": [
    {
     "data": {
      "text/plain": [
       "(53940, 10)"
      ]
     },
     "execution_count": 13,
     "metadata": {},
     "output_type": "execute_result"
    }
   ],
   "source": [
    "diamonds_data.shape"
   ]
  },
  {
   "cell_type": "code",
   "execution_count": 14,
   "id": "4f24b43e",
   "metadata": {},
   "outputs": [],
   "source": [
    "diamonds_duplicates = diamonds_data[diamonds_data.duplicated()]"
   ]
  },
  {
   "cell_type": "code",
   "execution_count": 15,
   "id": "b6413539",
   "metadata": {},
   "outputs": [
    {
     "data": {
      "text/plain": [
       "(146, 10)"
      ]
     },
     "execution_count": 15,
     "metadata": {},
     "output_type": "execute_result"
    }
   ],
   "source": [
    "diamonds_duplicates.shape"
   ]
  },
  {
   "cell_type": "code",
   "execution_count": 16,
   "id": "9a0c6045",
   "metadata": {},
   "outputs": [
    {
     "data": {
      "text/html": [
       "<div>\n",
       "<style scoped>\n",
       "    .dataframe tbody tr th:only-of-type {\n",
       "        vertical-align: middle;\n",
       "    }\n",
       "\n",
       "    .dataframe tbody tr th {\n",
       "        vertical-align: top;\n",
       "    }\n",
       "\n",
       "    .dataframe thead th {\n",
       "        text-align: right;\n",
       "    }\n",
       "</style>\n",
       "<table border=\"1\" class=\"dataframe\">\n",
       "  <thead>\n",
       "    <tr style=\"text-align: right;\">\n",
       "      <th></th>\n",
       "      <th>carat</th>\n",
       "      <th>cut</th>\n",
       "      <th>color</th>\n",
       "      <th>clarity</th>\n",
       "      <th>depth</th>\n",
       "      <th>table</th>\n",
       "      <th>price</th>\n",
       "      <th>x</th>\n",
       "      <th>y</th>\n",
       "      <th>z</th>\n",
       "    </tr>\n",
       "  </thead>\n",
       "  <tbody>\n",
       "    <tr>\n",
       "      <th>1005</th>\n",
       "      <td>0.79</td>\n",
       "      <td>Ideal</td>\n",
       "      <td>G</td>\n",
       "      <td>SI1</td>\n",
       "      <td>62.3</td>\n",
       "      <td>57.0</td>\n",
       "      <td>2898</td>\n",
       "      <td>5.90</td>\n",
       "      <td>5.85</td>\n",
       "      <td>3.66</td>\n",
       "    </tr>\n",
       "    <tr>\n",
       "      <th>1006</th>\n",
       "      <td>0.79</td>\n",
       "      <td>Ideal</td>\n",
       "      <td>G</td>\n",
       "      <td>SI1</td>\n",
       "      <td>62.3</td>\n",
       "      <td>57.0</td>\n",
       "      <td>2898</td>\n",
       "      <td>5.90</td>\n",
       "      <td>5.85</td>\n",
       "      <td>3.66</td>\n",
       "    </tr>\n",
       "    <tr>\n",
       "      <th>1007</th>\n",
       "      <td>0.79</td>\n",
       "      <td>Ideal</td>\n",
       "      <td>G</td>\n",
       "      <td>SI1</td>\n",
       "      <td>62.3</td>\n",
       "      <td>57.0</td>\n",
       "      <td>2898</td>\n",
       "      <td>5.90</td>\n",
       "      <td>5.85</td>\n",
       "      <td>3.66</td>\n",
       "    </tr>\n",
       "    <tr>\n",
       "      <th>1008</th>\n",
       "      <td>0.79</td>\n",
       "      <td>Ideal</td>\n",
       "      <td>G</td>\n",
       "      <td>SI1</td>\n",
       "      <td>62.3</td>\n",
       "      <td>57.0</td>\n",
       "      <td>2898</td>\n",
       "      <td>5.90</td>\n",
       "      <td>5.85</td>\n",
       "      <td>3.66</td>\n",
       "    </tr>\n",
       "    <tr>\n",
       "      <th>2025</th>\n",
       "      <td>1.52</td>\n",
       "      <td>Good</td>\n",
       "      <td>E</td>\n",
       "      <td>I1</td>\n",
       "      <td>57.3</td>\n",
       "      <td>58.0</td>\n",
       "      <td>3105</td>\n",
       "      <td>7.53</td>\n",
       "      <td>7.42</td>\n",
       "      <td>4.28</td>\n",
       "    </tr>\n",
       "  </tbody>\n",
       "</table>\n",
       "</div>"
      ],
      "text/plain": [
       "      carat    cut color clarity  depth  table  price     x     y     z\n",
       "1005   0.79  Ideal     G     SI1   62.3   57.0   2898  5.90  5.85  3.66\n",
       "1006   0.79  Ideal     G     SI1   62.3   57.0   2898  5.90  5.85  3.66\n",
       "1007   0.79  Ideal     G     SI1   62.3   57.0   2898  5.90  5.85  3.66\n",
       "1008   0.79  Ideal     G     SI1   62.3   57.0   2898  5.90  5.85  3.66\n",
       "2025   1.52   Good     E      I1   57.3   58.0   3105  7.53  7.42  4.28"
      ]
     },
     "execution_count": 16,
     "metadata": {},
     "output_type": "execute_result"
    }
   ],
   "source": [
    "diamonds_duplicates.head()"
   ]
  },
  {
   "cell_type": "code",
   "execution_count": 17,
   "id": "8716c373",
   "metadata": {},
   "outputs": [
    {
     "data": {
      "text/html": [
       "<div>\n",
       "<style scoped>\n",
       "    .dataframe tbody tr th:only-of-type {\n",
       "        vertical-align: middle;\n",
       "    }\n",
       "\n",
       "    .dataframe tbody tr th {\n",
       "        vertical-align: top;\n",
       "    }\n",
       "\n",
       "    .dataframe thead th {\n",
       "        text-align: right;\n",
       "    }\n",
       "</style>\n",
       "<table border=\"1\" class=\"dataframe\">\n",
       "  <thead>\n",
       "    <tr style=\"text-align: right;\">\n",
       "      <th></th>\n",
       "      <th>carat</th>\n",
       "      <th>cut</th>\n",
       "      <th>color</th>\n",
       "      <th>clarity</th>\n",
       "      <th>depth</th>\n",
       "      <th>table</th>\n",
       "      <th>price</th>\n",
       "      <th>x</th>\n",
       "      <th>y</th>\n",
       "      <th>z</th>\n",
       "    </tr>\n",
       "  </thead>\n",
       "  <tbody>\n",
       "    <tr>\n",
       "      <th>47296</th>\n",
       "      <td>0.30</td>\n",
       "      <td>Good</td>\n",
       "      <td>J</td>\n",
       "      <td>VS1</td>\n",
       "      <td>63.4</td>\n",
       "      <td>57.0</td>\n",
       "      <td>394</td>\n",
       "      <td>4.23</td>\n",
       "      <td>4.26</td>\n",
       "      <td>2.69</td>\n",
       "    </tr>\n",
       "    <tr>\n",
       "      <th>31629</th>\n",
       "      <td>0.30</td>\n",
       "      <td>Ideal</td>\n",
       "      <td>H</td>\n",
       "      <td>SI1</td>\n",
       "      <td>62.2</td>\n",
       "      <td>57.0</td>\n",
       "      <td>450</td>\n",
       "      <td>4.27</td>\n",
       "      <td>4.28</td>\n",
       "      <td>2.66</td>\n",
       "    </tr>\n",
       "    <tr>\n",
       "      <th>31627</th>\n",
       "      <td>0.30</td>\n",
       "      <td>Ideal</td>\n",
       "      <td>H</td>\n",
       "      <td>SI1</td>\n",
       "      <td>62.2</td>\n",
       "      <td>57.0</td>\n",
       "      <td>450</td>\n",
       "      <td>4.26</td>\n",
       "      <td>4.29</td>\n",
       "      <td>2.66</td>\n",
       "    </tr>\n",
       "    <tr>\n",
       "      <th>38636</th>\n",
       "      <td>0.31</td>\n",
       "      <td>Very Good</td>\n",
       "      <td>H</td>\n",
       "      <td>VS2</td>\n",
       "      <td>63.0</td>\n",
       "      <td>57.0</td>\n",
       "      <td>489</td>\n",
       "      <td>4.32</td>\n",
       "      <td>4.34</td>\n",
       "      <td>2.73</td>\n",
       "    </tr>\n",
       "    <tr>\n",
       "      <th>43261</th>\n",
       "      <td>0.30</td>\n",
       "      <td>Very Good</td>\n",
       "      <td>J</td>\n",
       "      <td>VS1</td>\n",
       "      <td>63.4</td>\n",
       "      <td>57.0</td>\n",
       "      <td>506</td>\n",
       "      <td>4.26</td>\n",
       "      <td>4.23</td>\n",
       "      <td>2.69</td>\n",
       "    </tr>\n",
       "    <tr>\n",
       "      <th>...</th>\n",
       "      <td>...</td>\n",
       "      <td>...</td>\n",
       "      <td>...</td>\n",
       "      <td>...</td>\n",
       "      <td>...</td>\n",
       "      <td>...</td>\n",
       "      <td>...</td>\n",
       "      <td>...</td>\n",
       "      <td>...</td>\n",
       "      <td>...</td>\n",
       "    </tr>\n",
       "    <tr>\n",
       "      <th>26554</th>\n",
       "      <td>2.66</td>\n",
       "      <td>Good</td>\n",
       "      <td>H</td>\n",
       "      <td>SI2</td>\n",
       "      <td>63.8</td>\n",
       "      <td>57.0</td>\n",
       "      <td>16239</td>\n",
       "      <td>8.71</td>\n",
       "      <td>8.65</td>\n",
       "      <td>5.54</td>\n",
       "    </tr>\n",
       "    <tr>\n",
       "      <th>26608</th>\n",
       "      <td>2.54</td>\n",
       "      <td>Very Good</td>\n",
       "      <td>H</td>\n",
       "      <td>SI2</td>\n",
       "      <td>63.5</td>\n",
       "      <td>56.0</td>\n",
       "      <td>16353</td>\n",
       "      <td>8.68</td>\n",
       "      <td>8.65</td>\n",
       "      <td>5.50</td>\n",
       "    </tr>\n",
       "    <tr>\n",
       "      <th>27027</th>\n",
       "      <td>2.42</td>\n",
       "      <td>Premium</td>\n",
       "      <td>J</td>\n",
       "      <td>VS2</td>\n",
       "      <td>61.3</td>\n",
       "      <td>59.0</td>\n",
       "      <td>17168</td>\n",
       "      <td>8.61</td>\n",
       "      <td>8.58</td>\n",
       "      <td>5.27</td>\n",
       "    </tr>\n",
       "    <tr>\n",
       "      <th>27518</th>\n",
       "      <td>3.01</td>\n",
       "      <td>Good</td>\n",
       "      <td>I</td>\n",
       "      <td>SI2</td>\n",
       "      <td>63.9</td>\n",
       "      <td>60.0</td>\n",
       "      <td>18242</td>\n",
       "      <td>9.06</td>\n",
       "      <td>9.01</td>\n",
       "      <td>5.77</td>\n",
       "    </tr>\n",
       "    <tr>\n",
       "      <th>27516</th>\n",
       "      <td>3.01</td>\n",
       "      <td>Fair</td>\n",
       "      <td>I</td>\n",
       "      <td>SI2</td>\n",
       "      <td>65.8</td>\n",
       "      <td>56.0</td>\n",
       "      <td>18242</td>\n",
       "      <td>8.99</td>\n",
       "      <td>8.94</td>\n",
       "      <td>5.90</td>\n",
       "    </tr>\n",
       "  </tbody>\n",
       "</table>\n",
       "<p>146 rows × 10 columns</p>\n",
       "</div>"
      ],
      "text/plain": [
       "       carat        cut color clarity  depth  table  price     x     y     z\n",
       "47296   0.30       Good     J     VS1   63.4   57.0    394  4.23  4.26  2.69\n",
       "31629   0.30      Ideal     H     SI1   62.2   57.0    450  4.27  4.28  2.66\n",
       "31627   0.30      Ideal     H     SI1   62.2   57.0    450  4.26  4.29  2.66\n",
       "38636   0.31  Very Good     H     VS2   63.0   57.0    489  4.32  4.34  2.73\n",
       "43261   0.30  Very Good     J     VS1   63.4   57.0    506  4.26  4.23  2.69\n",
       "...      ...        ...   ...     ...    ...    ...    ...   ...   ...   ...\n",
       "26554   2.66       Good     H     SI2   63.8   57.0  16239  8.71  8.65  5.54\n",
       "26608   2.54  Very Good     H     SI2   63.5   56.0  16353  8.68  8.65  5.50\n",
       "27027   2.42    Premium     J     VS2   61.3   59.0  17168  8.61  8.58  5.27\n",
       "27518   3.01       Good     I     SI2   63.9   60.0  18242  9.06  9.01  5.77\n",
       "27516   3.01       Fair     I     SI2   65.8   56.0  18242  8.99  8.94  5.90\n",
       "\n",
       "[146 rows x 10 columns]"
      ]
     },
     "execution_count": 17,
     "metadata": {},
     "output_type": "execute_result"
    }
   ],
   "source": [
    "diamonds_duplicates.sort_values('price')"
   ]
  },
  {
   "cell_type": "code",
   "execution_count": 18,
   "id": "478ed497",
   "metadata": {},
   "outputs": [],
   "source": [
    "diamonds_duplicates.to_csv('duplicates.csv')"
   ]
  },
  {
   "cell_type": "markdown",
   "id": "582a98ee",
   "metadata": {},
   "source": [
    "## Write a python program to sorting file by keywords"
   ]
  },
  {
   "cell_type": "code",
   "execution_count": 19,
   "id": "6a8c869f",
   "metadata": {},
   "outputs": [],
   "source": [
    "import os"
   ]
  },
  {
   "cell_type": "code",
   "execution_count": 20,
   "id": "d732bdd3",
   "metadata": {},
   "outputs": [
    {
     "data": {
      "text/plain": [
       "'C:\\\\Users\\\\Akshay Karadkar\\\\Task 5'"
      ]
     },
     "execution_count": 20,
     "metadata": {},
     "output_type": "execute_result"
    }
   ],
   "source": [
    "os.getcwd()"
   ]
  },
  {
   "cell_type": "code",
   "execution_count": 29,
   "id": "f27d760e",
   "metadata": {},
   "outputs": [
    {
     "data": {
      "text/plain": [
       "['BE Sem 5.pdf',\n",
       " 'BE Sem 6.pdf',\n",
       " 'BE Sem 7.pdf',\n",
       " 'BE Sem 8.pdf',\n",
       " 'NLP - Sentiment analysis.html',\n",
       " 'NLP - Sentiment analysis.ipynb',\n",
       " 'Sem 1.pdf',\n",
       " 'Sem 2.pdf',\n",
       " 'Sem 3.pdf',\n",
       " 'Sem 4.pdf']"
      ]
     },
     "execution_count": 29,
     "metadata": {},
     "output_type": "execute_result"
    }
   ],
   "source": [
    "os.listdir('D:\\Task 5-SubTask')"
   ]
  },
  {
   "cell_type": "code",
   "execution_count": 30,
   "id": "ae84994b",
   "metadata": {},
   "outputs": [],
   "source": [
    "import os.path"
   ]
  },
  {
   "cell_type": "code",
   "execution_count": 31,
   "id": "7705b943",
   "metadata": {},
   "outputs": [],
   "source": [
    "folder_path = 'D:\\Task 5-SubTask'\n",
    "\n",
    "files = [f for f in os.listdir(folder_path)]\n",
    "for file in files:\n",
    "    subfolder_name = file.split(' ')[0]\n",
    "    \n",
    "    new_path = os.path.join(folder_path, subfolder_name)\n",
    "    if not os.path.exists(new_path):\n",
    "        os.makedirs(new_path)\n",
    "        \n",
    "    old_file_path = os.path.join(folder_path, file)\n",
    "    new_file_path = os.path.join(new_path, file)\n",
    "    shutil.move(old_file_path, new_file_path)"
   ]
  },
  {
   "cell_type": "code",
   "execution_count": 35,
   "id": "7df7e967",
   "metadata": {},
   "outputs": [
    {
     "data": {
      "text/plain": [
       "['BE', 'NLP', 'Sem']"
      ]
     },
     "execution_count": 35,
     "metadata": {},
     "output_type": "execute_result"
    }
   ],
   "source": [
    "os.listdir('D:\\Task 5-SubTask')"
   ]
  },
  {
   "cell_type": "code",
   "execution_count": 37,
   "id": "ac3cdfa7",
   "metadata": {},
   "outputs": [
    {
     "data": {
      "text/plain": [
       "['NLP - Sentiment analysis.html', 'NLP - Sentiment analysis.ipynb']"
      ]
     },
     "execution_count": 37,
     "metadata": {},
     "output_type": "execute_result"
    }
   ],
   "source": [
    "os.listdir('D:\\\\Task 5-SubTask\\\\NLP')"
   ]
  },
  {
   "cell_type": "code",
   "execution_count": 38,
   "id": "b5bea243",
   "metadata": {},
   "outputs": [
    {
     "data": {
      "text/plain": [
       "['Sem 1.pdf', 'Sem 2.pdf', 'Sem 3.pdf', 'Sem 4.pdf']"
      ]
     },
     "execution_count": 38,
     "metadata": {},
     "output_type": "execute_result"
    }
   ],
   "source": [
    "os.listdir('D:\\\\Task 5-SubTask\\\\SEM')"
   ]
  }
 ],
 "metadata": {
  "kernelspec": {
   "display_name": "Python 3 (ipykernel)",
   "language": "python",
   "name": "python3"
  },
  "language_info": {
   "codemirror_mode": {
    "name": "ipython",
    "version": 3
   },
   "file_extension": ".py",
   "mimetype": "text/x-python",
   "name": "python",
   "nbconvert_exporter": "python",
   "pygments_lexer": "ipython3",
   "version": "3.9.7"
  }
 },
 "nbformat": 4,
 "nbformat_minor": 5
}
