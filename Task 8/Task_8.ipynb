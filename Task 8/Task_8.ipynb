{
 "cells": [
  {
   "cell_type": "code",
   "execution_count": 4,
   "id": "2c086492",
   "metadata": {},
   "outputs": [],
   "source": [
    "# Task-8\n",
    "# Ambur Biryani Billing System:\n",
    "# Create a Billing system where  input value:\n",
    "# Name:\n",
    "# Phone no:\n",
    "# Food item no:\n",
    "# Output: Generated bill and save bill in folder.\n",
    "# (submit output in .exe format along with your code.)"
   ]
  },
  {
   "cell_type": "code",
   "execution_count": 2,
   "id": "914ed700",
   "metadata": {},
   "outputs": [
    {
     "name": "stdout",
     "output_type": "stream",
     "text": [
      "Requirement already satisfied: datetime in c:\\users\\akshay karadkar\\anaconda3\\lib\\site-packages (4.9)\n",
      "Requirement already satisfied: pytz in c:\\users\\akshay karadkar\\anaconda3\\lib\\site-packages (from datetime) (2021.3)\n",
      "Requirement already satisfied: zope.interface in c:\\users\\akshay karadkar\\anaconda3\\lib\\site-packages (from datetime) (5.4.0)\n",
      "Requirement already satisfied: setuptools in c:\\users\\akshay karadkar\\anaconda3\\lib\\site-packages (from zope.interface->datetime) (58.0.4)\n"
     ]
    }
   ],
   "source": [
    "!pip install datetime"
   ]
  },
  {
   "cell_type": "code",
   "execution_count": 3,
   "id": "e06634b2",
   "metadata": {},
   "outputs": [],
   "source": [
    "from datetime import datetime"
   ]
  },
  {
   "cell_type": "code",
   "execution_count": 4,
   "id": "c5866272",
   "metadata": {},
   "outputs": [
    {
     "name": "stdout",
     "output_type": "stream",
     "text": [
      "Please Enter Your Name:  Vaibhav Kamble\n",
      "Please Enter Your Contact Number:  8652353917\n",
      "************************************************************\n",
      "\t\tYOSHOPS AMBUR BIRYANI\t\t\n",
      "************************************************************\n",
      "NAME\t\t\t\t\t\tVaibhav Kamble\n",
      "CONTACT NUMBER\t\t\t\t\t8652353917\n",
      "12/24/22 20:15\n",
      "\n",
      "**************** Items Available in Our Shop****************\n",
      "Bucket Chicken Biryani Party Pack: 999\n",
      "\n",
      "Chicken Biryani: 170\n",
      "\n",
      "Egg Biryani: 120\n",
      "\n",
      "Mutton Biryani: 260\n",
      "\n",
      "Kushka: 110\n",
      "\n",
      "Chicken Pakodai: 60\n",
      "************************************************************\n",
      "Do you wish to proceed (Y/N) : y\n",
      "Copy and Paste an Item  from Items Available: Chicken Biryani\n",
      "Add Quantity:  2\n",
      "{'Chicken Biryani': {'Quantity': 2, 'Subtotal': 340}}\n",
      "Do you wish to add more Items (Y/N) : y\n",
      "Copy and Paste an Item  from Items Available: Egg Biryani\n",
      "Add Quantity:  1\n",
      "{'Chicken Biryani': {'Quantity': 2, 'Subtotal': 340}, 'Egg Biryani': {'Quantity': 1, 'Subtotal': 120}}\n",
      "Do you wish to add more Items (Y/N) : n\n",
      "************************************************************\n",
      "\t\tYOSHOPS AMBUR BIRYANI\t\t\n",
      "************************************************************\n",
      "NAME\t\t\t\t\t\tVaibhav Kamble\n",
      "CONTACT NUMBER\t\t\t\t\t8652353917\n",
      "************************BILL SUMMARY************************\n",
      "************************************************************\n",
      "Item Name\t\t\t\tQuantity     Sutotal\n",
      "************************************************************\n",
      "Chicken Biryani\t\t\t\t2\t\t340\n",
      "Egg Biryani\t\t\t\t1\t\t120\n",
      "\n",
      "\n",
      "Vaibhav Kamble your Total Amount is : 460 \n",
      "You Spent a Total of ₹460 on 12/24/22 20:15\n",
      "\n",
      "\tThanks for Shopping at YOSHOPS AMBUR BIRYANI \n",
      "\t\tHope to see you back !\n",
      "************************************************************\n"
     ]
    }
   ],
   "source": [
    "#prompt for name and contact inputs\n",
    "\n",
    "username=input('Please Enter Your Name:  ')\n",
    "contact=input('Please Enter Your Contact Number:  ')\n",
    "titleofbill=f'\\t\\tYOSHOPS AMBUR BIRYANI\\t\\t'\n",
    "name_of_person = 'Name'\n",
    "phone_number = 'Contact Number'\n",
    "date_and_time = datetime.today().strftime(\"%m/%d/%y %H:%M\")\n",
    "\n",
    "print(\"*\"*60)\n",
    "print(titleofbill)\n",
    "print(\"*\"*60)\n",
    "print(f\"{name_of_person.upper()}\\t\\t\\t\\t\\t\\t{username.title()}\")\n",
    "print(f\"{phone_number.upper()}\\t\\t\\t\\t\\t{contact}\")\n",
    "print(f\"{date_and_time}\")\n",
    "\n",
    "#read data from text file\n",
    "my_file=open(\"biryani.txt\")\n",
    "file_line=my_file.readline()\n",
    "itemsavailable=my_file.readlines()\n",
    "#print(itemsavailable)\n",
    "my_file.close()\n",
    "\n",
    "#fetch items from list and add to a dictionary\n",
    "print('\\n**************** Items Available in Our Shop****************')\n",
    "itemavailabledict={}\n",
    "billingdict={}\n",
    "for item in itemsavailable:\n",
    "    item_name = (item.split(','))[0]\n",
    "    item_price = (item.split(','))[1]\n",
    "    print(f\"{item_name }: {item_price}\")\n",
    "    itemavailabledict.update({item_name:int(item_price)})\n",
    "print(\"*\"*60)\n",
    "\n",
    "#prompt user to add items\n",
    "proceedshopping=input(\"Do you wish to proceed (Y/N) : \")\n",
    "while proceedshopping.upper()==\"Y\":\n",
    "    item_added=input(\"Copy and Paste an Item  from Items Available: \")\n",
    "    if item_added.title() in itemavailabledict:\n",
    "        item_quantity=int(input(\"Add Quantity:  \"))\n",
    "        billingdict.update({item_added: {\"Quantity\":item_quantity, \"Subtotal\":itemavailabledict[item_added.title()]*item_quantity}})\n",
    "        print(billingdict)\n",
    "    else:\n",
    "        print(\"Unable to add Unavailable Item\")\n",
    "    proceedshopping=input(\"Do you wish to add more Items (Y/N) : \")\n",
    "else:\n",
    "    print(\"*\"*60)\n",
    "    print(titleofbill)\n",
    "    print(\"*\"*60)\n",
    "    print(f\"{name_of_person.upper()}\\t\\t\\t\\t\\t\\t{username.title()}\")\n",
    "    print(f\"{phone_number.upper()}\\t\\t\\t\\t\\t{contact}\")\n",
    "    print(f'*'*24+'BILL SUMMARY'+'*'*24)\n",
    "    print(\"*\"*60)\n",
    "    print(f\"Item Name\\t\\t\\t\\tQuantity     Sutotal\")\n",
    "    print(\"*\"*60)\n",
    "    \n",
    "    #make a bill with quantity , subtotal and total\n",
    "    total=0\n",
    "    for key in billingdict:\n",
    "        print(f\"{key}\\t\\t\\t\\t{billingdict[key]['Quantity']}\\t\\t{billingdict[key]['Subtotal']}\")    \n",
    "        total=billingdict[key]['Subtotal']+total\n",
    "    print(\"\\n\")\n",
    "    print(f\"{username.title()} your Total Amount is : {total} \" )\n",
    "    print(f\"You Spent a Total of ₹{total} on {date_and_time}\" )\n",
    "    print(\"\\n\\tThanks for Shopping at YOSHOPS AMBUR BIRYANI \\n\\t\\tHope to see you back !\")\n",
    "    print(\"*\"*60)"
   ]
  }
 ],
 "metadata": {
  "kernelspec": {
   "display_name": "Python 3 (ipykernel)",
   "language": "python",
   "name": "python3"
  },
  "language_info": {
   "codemirror_mode": {
    "name": "ipython",
    "version": 3
   },
   "file_extension": ".py",
   "mimetype": "text/x-python",
   "name": "python",
   "nbconvert_exporter": "python",
   "pygments_lexer": "ipython3",
   "version": "3.9.7"
  }
 },
 "nbformat": 4,
 "nbformat_minor": 5
}
